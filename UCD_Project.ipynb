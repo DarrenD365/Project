{
 "cells": [
  {
   "cell_type": "code",
   "execution_count": 1,
   "id": "e980f893-f5d6-46fc-a6b0-dea3c2bcfb42",
   "metadata": {},
   "outputs": [],
   "source": [
    "import pandas as pd\n",
    "import seaborn as sns\n",
    "import matplotlib.pyplot as plt\n",
    "import numpy as np"
   ]
  },
  {
   "cell_type": "code",
   "execution_count": 2,
   "id": "3fb4fc6f-af02-498d-8e77-ec4a69ceac60",
   "metadata": {},
   "outputs": [
    {
     "name": "stdout",
     "output_type": "stream",
     "text": [
      "   Year     Month Week Retail Code        Store Long Label Turnover in EUR  \\\n",
      "0  2022  February  W06         Q93  CLIENT SERVICE DENMARK          10 077   \n",
      "1  2022     April  W17         Q93  CLIENT SERVICE DENMARK          16 071   \n",
      "2  2022      June  W26         Q93  CLIENT SERVICE DENMARK          10 141   \n",
      "3  2022     April  W14         A90   CLIENT SERVICE FRANCE         187 844   \n",
      "4  2022       May  W21         A90   CLIENT SERVICE FRANCE         178 956   \n",
      "\n",
      "  Commercial Sales Quantity Transactions (Scope Retail KPI) SPT in EUR   UPT  \n",
      "0                         7                              13      1 110  1.00  \n",
      "1                        15                              18        929  1.00  \n",
      "2                        13                              15        839  1.00  \n",
      "3                       269                             225        889  1.24  \n",
      "4                       231                             243        805  1.01  \n"
     ]
    }
   ],
   "source": [
    "#import CSV file in Dataframe\n",
    "sales_22 = pd.read_csv('Sales _2022.csv')\n",
    "print(sales_22.head())"
   ]
  },
  {
   "cell_type": "code",
   "execution_count": 3,
   "id": "98457cbb-c050-4cd0-ac94-cbe315d97b86",
   "metadata": {},
   "outputs": [
    {
     "data": {
      "text/plain": [
       "(1482, 10)"
      ]
     },
     "execution_count": 3,
     "metadata": {},
     "output_type": "execute_result"
    }
   ],
   "source": [
    "#showing understanding of the shape of the Dataframe and exploring Datatypes\n",
    "sales_22.shape"
   ]
  },
  {
   "cell_type": "code",
   "execution_count": 4,
   "id": "ea2e169a-484d-4785-aeda-44494a8a3019",
   "metadata": {},
   "outputs": [
    {
     "name": "stdout",
     "output_type": "stream",
     "text": [
      "<class 'pandas.core.frame.DataFrame'>\n",
      "RangeIndex: 1482 entries, 0 to 1481\n",
      "Data columns (total 10 columns):\n",
      " #   Column                           Non-Null Count  Dtype  \n",
      "---  ------                           --------------  -----  \n",
      " 0   Year                             1482 non-null   int64  \n",
      " 1   Month                            1482 non-null   object \n",
      " 2   Week                             1482 non-null   object \n",
      " 3   Retail Code                      1482 non-null   object \n",
      " 4   Store Long Label                 1482 non-null   object \n",
      " 5   Turnover in EUR                  1482 non-null   object \n",
      " 6   Commercial Sales Quantity        1482 non-null   object \n",
      " 7   Transactions (Scope Retail KPI)  1482 non-null   object \n",
      " 8   SPT in EUR                       1457 non-null   object \n",
      " 9   UPT                              1457 non-null   float64\n",
      "dtypes: float64(1), int64(1), object(8)\n",
      "memory usage: 115.9+ KB\n"
     ]
    }
   ],
   "source": [
    "sales_22.info()"
   ]
  },
  {
   "cell_type": "code",
   "execution_count": 5,
   "id": "2ec7dfdf-52ac-4ea2-9344-b6c81e4e82a6",
   "metadata": {},
   "outputs": [
    {
     "data": {
      "text/plain": [
       "Year                                 int64\n",
       "Month                               object\n",
       "Week                                object\n",
       "Retail Code                         object\n",
       "Store Long Label                    object\n",
       "Turnover in EUR                     object\n",
       "Commercial Sales Quantity           object\n",
       "Transactions (Scope Retail KPI)     object\n",
       "SPT in EUR                          object\n",
       "UPT                                float64\n",
       "dtype: object"
      ]
     },
     "execution_count": 5,
     "metadata": {},
     "output_type": "execute_result"
    }
   ],
   "source": [
    "sales_22.dtypes"
   ]
  },
  {
   "cell_type": "code",
   "execution_count": 6,
   "id": "f2893455-db31-47a2-b67a-adcf4d1fbd77",
   "metadata": {},
   "outputs": [
    {
     "data": {
      "text/html": [
       "<div>\n",
       "<style scoped>\n",
       "    .dataframe tbody tr th:only-of-type {\n",
       "        vertical-align: middle;\n",
       "    }\n",
       "\n",
       "    .dataframe tbody tr th {\n",
       "        vertical-align: top;\n",
       "    }\n",
       "\n",
       "    .dataframe thead th {\n",
       "        text-align: right;\n",
       "    }\n",
       "</style>\n",
       "<table border=\"1\" class=\"dataframe\">\n",
       "  <thead>\n",
       "    <tr style=\"text-align: right;\">\n",
       "      <th></th>\n",
       "      <th>Year</th>\n",
       "      <th>Month</th>\n",
       "      <th>Week</th>\n",
       "      <th>Retail Code</th>\n",
       "      <th>Store Long Label</th>\n",
       "      <th>Turnover in EUR</th>\n",
       "      <th>Commercial Sales Quantity</th>\n",
       "      <th>Transactions (Scope Retail KPI)</th>\n",
       "      <th>SPT in EUR</th>\n",
       "      <th>UPT</th>\n",
       "    </tr>\n",
       "  </thead>\n",
       "  <tbody>\n",
       "    <tr>\n",
       "      <th>0</th>\n",
       "      <td>2022</td>\n",
       "      <td>February</td>\n",
       "      <td>W06</td>\n",
       "      <td>Q93</td>\n",
       "      <td>CLIENT SERVICE DENMARK</td>\n",
       "      <td>10 077</td>\n",
       "      <td>7</td>\n",
       "      <td>13</td>\n",
       "      <td>1 110</td>\n",
       "      <td>1.00</td>\n",
       "    </tr>\n",
       "    <tr>\n",
       "      <th>1</th>\n",
       "      <td>2022</td>\n",
       "      <td>April</td>\n",
       "      <td>W17</td>\n",
       "      <td>Q93</td>\n",
       "      <td>CLIENT SERVICE DENMARK</td>\n",
       "      <td>16 071</td>\n",
       "      <td>15</td>\n",
       "      <td>18</td>\n",
       "      <td>929</td>\n",
       "      <td>1.00</td>\n",
       "    </tr>\n",
       "    <tr>\n",
       "      <th>2</th>\n",
       "      <td>2022</td>\n",
       "      <td>June</td>\n",
       "      <td>W26</td>\n",
       "      <td>Q93</td>\n",
       "      <td>CLIENT SERVICE DENMARK</td>\n",
       "      <td>10 141</td>\n",
       "      <td>13</td>\n",
       "      <td>15</td>\n",
       "      <td>839</td>\n",
       "      <td>1.00</td>\n",
       "    </tr>\n",
       "    <tr>\n",
       "      <th>3</th>\n",
       "      <td>2022</td>\n",
       "      <td>April</td>\n",
       "      <td>W14</td>\n",
       "      <td>A90</td>\n",
       "      <td>CLIENT SERVICE FRANCE</td>\n",
       "      <td>187 844</td>\n",
       "      <td>269</td>\n",
       "      <td>225</td>\n",
       "      <td>889</td>\n",
       "      <td>1.24</td>\n",
       "    </tr>\n",
       "    <tr>\n",
       "      <th>4</th>\n",
       "      <td>2022</td>\n",
       "      <td>May</td>\n",
       "      <td>W21</td>\n",
       "      <td>A90</td>\n",
       "      <td>CLIENT SERVICE FRANCE</td>\n",
       "      <td>178 956</td>\n",
       "      <td>231</td>\n",
       "      <td>243</td>\n",
       "      <td>805</td>\n",
       "      <td>1.01</td>\n",
       "    </tr>\n",
       "  </tbody>\n",
       "</table>\n",
       "</div>"
      ],
      "text/plain": [
       "   Year     Month Week Retail Code        Store Long Label Turnover in EUR  \\\n",
       "0  2022  February  W06         Q93  CLIENT SERVICE DENMARK          10 077   \n",
       "1  2022     April  W17         Q93  CLIENT SERVICE DENMARK          16 071   \n",
       "2  2022      June  W26         Q93  CLIENT SERVICE DENMARK          10 141   \n",
       "3  2022     April  W14         A90   CLIENT SERVICE FRANCE         187 844   \n",
       "4  2022       May  W21         A90   CLIENT SERVICE FRANCE         178 956   \n",
       "\n",
       "  Commercial Sales Quantity Transactions (Scope Retail KPI) SPT in EUR   UPT  \n",
       "0                         7                              13      1 110  1.00  \n",
       "1                        15                              18        929  1.00  \n",
       "2                        13                              15        839  1.00  \n",
       "3                       269                             225        889  1.24  \n",
       "4                       231                             243        805  1.01  "
      ]
     },
     "execution_count": 6,
     "metadata": {},
     "output_type": "execute_result"
    }
   ],
   "source": [
    "sales_22.head()"
   ]
  },
  {
   "cell_type": "code",
   "execution_count": 7,
   "id": "6df42164-daae-4eb5-a7ae-d31326dbe18c",
   "metadata": {},
   "outputs": [],
   "source": [
    "#cleaning data\n",
    "sales_22['Turnover in EUR'] = sales_22['Turnover in EUR'].str.replace(' ', \"\")"
   ]
  },
  {
   "cell_type": "code",
   "execution_count": 8,
   "id": "9a4b4ad0-4f12-4f1a-bd15-a032030dbfd9",
   "metadata": {},
   "outputs": [
    {
     "data": {
      "text/html": [
       "<div>\n",
       "<style scoped>\n",
       "    .dataframe tbody tr th:only-of-type {\n",
       "        vertical-align: middle;\n",
       "    }\n",
       "\n",
       "    .dataframe tbody tr th {\n",
       "        vertical-align: top;\n",
       "    }\n",
       "\n",
       "    .dataframe thead th {\n",
       "        text-align: right;\n",
       "    }\n",
       "</style>\n",
       "<table border=\"1\" class=\"dataframe\">\n",
       "  <thead>\n",
       "    <tr style=\"text-align: right;\">\n",
       "      <th></th>\n",
       "      <th>Year</th>\n",
       "      <th>Month</th>\n",
       "      <th>Week</th>\n",
       "      <th>Retail Code</th>\n",
       "      <th>Store Long Label</th>\n",
       "      <th>Turnover in EUR</th>\n",
       "      <th>Commercial Sales Quantity</th>\n",
       "      <th>Transactions (Scope Retail KPI)</th>\n",
       "      <th>SPT in EUR</th>\n",
       "      <th>UPT</th>\n",
       "    </tr>\n",
       "  </thead>\n",
       "  <tbody>\n",
       "    <tr>\n",
       "      <th>0</th>\n",
       "      <td>2022</td>\n",
       "      <td>February</td>\n",
       "      <td>W06</td>\n",
       "      <td>Q93</td>\n",
       "      <td>CLIENT SERVICE DENMARK</td>\n",
       "      <td>10077</td>\n",
       "      <td>7</td>\n",
       "      <td>13</td>\n",
       "      <td>1 110</td>\n",
       "      <td>1.00</td>\n",
       "    </tr>\n",
       "    <tr>\n",
       "      <th>1</th>\n",
       "      <td>2022</td>\n",
       "      <td>April</td>\n",
       "      <td>W17</td>\n",
       "      <td>Q93</td>\n",
       "      <td>CLIENT SERVICE DENMARK</td>\n",
       "      <td>16071</td>\n",
       "      <td>15</td>\n",
       "      <td>18</td>\n",
       "      <td>929</td>\n",
       "      <td>1.00</td>\n",
       "    </tr>\n",
       "    <tr>\n",
       "      <th>2</th>\n",
       "      <td>2022</td>\n",
       "      <td>June</td>\n",
       "      <td>W26</td>\n",
       "      <td>Q93</td>\n",
       "      <td>CLIENT SERVICE DENMARK</td>\n",
       "      <td>10141</td>\n",
       "      <td>13</td>\n",
       "      <td>15</td>\n",
       "      <td>839</td>\n",
       "      <td>1.00</td>\n",
       "    </tr>\n",
       "    <tr>\n",
       "      <th>3</th>\n",
       "      <td>2022</td>\n",
       "      <td>April</td>\n",
       "      <td>W14</td>\n",
       "      <td>A90</td>\n",
       "      <td>CLIENT SERVICE FRANCE</td>\n",
       "      <td>187844</td>\n",
       "      <td>269</td>\n",
       "      <td>225</td>\n",
       "      <td>889</td>\n",
       "      <td>1.24</td>\n",
       "    </tr>\n",
       "    <tr>\n",
       "      <th>4</th>\n",
       "      <td>2022</td>\n",
       "      <td>May</td>\n",
       "      <td>W21</td>\n",
       "      <td>A90</td>\n",
       "      <td>CLIENT SERVICE FRANCE</td>\n",
       "      <td>178956</td>\n",
       "      <td>231</td>\n",
       "      <td>243</td>\n",
       "      <td>805</td>\n",
       "      <td>1.01</td>\n",
       "    </tr>\n",
       "  </tbody>\n",
       "</table>\n",
       "</div>"
      ],
      "text/plain": [
       "   Year     Month Week Retail Code        Store Long Label Turnover in EUR  \\\n",
       "0  2022  February  W06         Q93  CLIENT SERVICE DENMARK           10077   \n",
       "1  2022     April  W17         Q93  CLIENT SERVICE DENMARK           16071   \n",
       "2  2022      June  W26         Q93  CLIENT SERVICE DENMARK           10141   \n",
       "3  2022     April  W14         A90   CLIENT SERVICE FRANCE          187844   \n",
       "4  2022       May  W21         A90   CLIENT SERVICE FRANCE          178956   \n",
       "\n",
       "  Commercial Sales Quantity Transactions (Scope Retail KPI) SPT in EUR   UPT  \n",
       "0                         7                              13      1 110  1.00  \n",
       "1                        15                              18        929  1.00  \n",
       "2                        13                              15        839  1.00  \n",
       "3                       269                             225        889  1.24  \n",
       "4                       231                             243        805  1.01  "
      ]
     },
     "execution_count": 8,
     "metadata": {},
     "output_type": "execute_result"
    }
   ],
   "source": [
    "sales_22.head()"
   ]
  },
  {
   "cell_type": "code",
   "execution_count": 9,
   "id": "157ecff6-ff27-4b6f-9807-54fe3d6d5a84",
   "metadata": {},
   "outputs": [],
   "source": [
    "sales_22['Turnover in EUR'] = pd.to_numeric(sales_22[\"Turnover in EUR\"], errors='coerce')"
   ]
  },
  {
   "cell_type": "code",
   "execution_count": 10,
   "id": "11bd700b-5750-4ed2-a363-08775088fe8e",
   "metadata": {},
   "outputs": [
    {
     "data": {
      "text/plain": [
       "Year                                 int64\n",
       "Month                               object\n",
       "Week                                object\n",
       "Retail Code                         object\n",
       "Store Long Label                    object\n",
       "Turnover in EUR                      int64\n",
       "Commercial Sales Quantity           object\n",
       "Transactions (Scope Retail KPI)     object\n",
       "SPT in EUR                          object\n",
       "UPT                                float64\n",
       "dtype: object"
      ]
     },
     "execution_count": 10,
     "metadata": {},
     "output_type": "execute_result"
    }
   ],
   "source": [
    "sales_22.dtypes"
   ]
  },
  {
   "cell_type": "code",
   "execution_count": 11,
   "id": "2a79dcd9-f461-4b17-ad8a-660b2dfc8ab0",
   "metadata": {},
   "outputs": [],
   "source": [
    "month_dict={'January':1, 'February':2, 'March':3, 'April':4, 'May':5, 'June':6, 'July':7, 'August':8, 'September':9,'October':10, 'November':11, 'December':12}\n",
    "sales_22=sales_22.sort_values('Month', key = lambda x: x.apply (lambda x : month_dict[x]))"
   ]
  },
  {
   "cell_type": "code",
   "execution_count": 12,
   "id": "396623e8-08a7-4417-be7e-ecda58f32594",
   "metadata": {},
   "outputs": [
    {
     "data": {
      "image/png": "[encoded data removed]",
      "text/plain": [
       "<Figure size 1440x360 with 1 Axes>"
      ]
     },
     "metadata": {
      "needs_background": "light"
     },
     "output_type": "display_data"
    }
   ],
   "source": [
    "#exploring the initial data\n",
    "plt.figure(figsize=(20,5))\n",
    "sns.barplot(x=\"Month\", y=\"Turnover in EUR\", data= sales_22, palette=\"rocket\").set(title='Turnover per Month')\n",
    "plt.show()"
   ]
  },
  {
   "cell_type": "code",
   "execution_count": 13,
   "id": "b5edc873-b7f2-46e2-b9c7-10030ac4de68",
   "metadata": {},
   "outputs": [
    {
     "data": {
      "image/png": "[encoded data removed]",
      "text/plain": [
       "<Figure size 720x720 with 1 Axes>"
      ]
     },
     "metadata": {
      "needs_background": "light"
     },
     "output_type": "display_data"
    }
   ],
   "source": [
    "plt.figure(figsize=(10,10))\n",
    "sns.barplot(x='Turnover in EUR', y='Store Long Label', data= sales_22).set(title='Turnover per Store')\n",
    "plt.show()"
   ]
  },
  {
   "cell_type": "code",
   "execution_count": 14,
   "id": "8538d2cb-2f6f-4500-b403-a6195ca1b114",
   "metadata": {},
   "outputs": [],
   "source": [
    "import requests"
   ]
  },
  {
   "cell_type": "code",
   "execution_count": null,
   "id": "6fb1d1ba-1e06-4a15-9771-3a6dd193baf0",
   "metadata": {},
   "outputs": [],
   "source": []
  },
  {
   "cell_type": "code",
   "execution_count": null,
   "id": "2f021744-2cfd-45fd-b6cd-c081f097c28f",
   "metadata": {},
   "outputs": [],
   "source": []
  },
  {
   "cell_type": "code",
   "execution_count": null,
   "id": "c83fb6bf-a7a9-4cf5-9b20-11dd38b4173d",
   "metadata": {},
   "outputs": [],
   "source": []
  },
  {
   "cell_type": "code",
   "execution_count": null,
   "id": "a52fb45b-36d6-450c-a48d-efc660b25ae7",
   "metadata": {},
   "outputs": [],
   "source": []
  },
  {
   "cell_type": "code",
   "execution_count": null,
   "id": "9c673383-eed2-4d22-8072-65d1bc0d0d22",
   "metadata": {},
   "outputs": [],
   "source": []
  }
 ],
 "metadata": {
  "kernelspec": {
   "display_name": "Python 3",
   "language": "python",
   "name": "python3"
  },
  "language_info": {
   "codemirror_mode": {
    "name": "ipython",
    "version": 3
   },
   "file_extension": ".py",
   "mimetype": "text/x-python",
   "name": "python",
   "nbconvert_exporter": "python",
   "pygments_lexer": "ipython3",
   "version": "3.8.8"
  }
 },
 "nbformat": 4,
 "nbformat_minor": 5
}
